{
 "cells": [
  {
   "cell_type": "markdown",
   "metadata": {
    "collapsed": true,
    "pycharm": {
     "name": "#%% md\n"
    }
   },
   "source": [
    "# PyOTI Phishing Triage\n",
    "***\n",
    "## Installation\n",
    "\n",
    "```bash\n",
    "python3 -m pip install virtualenv\n",
    "git clone https://github.com/RH-ISAC/PyOTI\n",
    "cd PyOTI\n",
    "python3 -m venv venv\n",
    "source venv/bin/activate\n",
    "python3 -m pip install -r requirements.txt\n",
    "python3 -m pip install .\n",
    "```\n",
    ">If you experience issues installing pycares, please uninstall c-ares from ```/usr/local``` or run ```brew uninstall --ignore-dependencies c-ares```. Pycares depends on the bundled version. (https://github.com/ccxt/ccxt/issues/4798)\n",
    "\n",
    "## API Keys\n",
    "Set your API key variables below:"
   ]
  },
  {
   "cell_type": "code",
   "execution_count": 4,
   "metadata": {
    "pycharm": {
     "name": "#%%\n"
    }
   },
   "outputs": [],
   "source": [
    "domaintools = '{USER}:{SECRET}'\n",
    "googlesafebrowsing = ''\n",
    "hybridanalysis = ''\n",
    "phishtank = ''\n",
    "urlscan = ''\n",
    "virustotal = ''"
   ]
  },
  {
   "cell_type": "markdown",
   "metadata": {
    "pycharm": {
     "name": "#%% md\n"
    }
   },
   "source": [
    "***\n",
    "## URL Analysis\n",
    "Set the suspicious URL variable below:\n",
    "\n",
    ">If the URL contains base64-encoded username/address please replace with ``` redacted@redacted.com ``` or ``` cmVkYWN0ZWRAcmVkYWN0ZWQuY29tCg== ```\n",
    "\n",
    "**Suspicious URL**"
   ]
  },
  {
   "cell_type": "code",
   "execution_count": 6,
   "metadata": {
    "pycharm": {
     "name": "#%%\n"
    }
   },
   "outputs": [],
   "source": [
    "# we import this so we can safely display the suspicious URL to avoid accidental clicks\n",
    "from defang import defang\n",
    "\n",
    "phish_url = ''"
   ]
  },
  {
   "cell_type": "markdown",
   "metadata": {
    "pycharm": {
     "name": "#%% md\n"
    }
   },
   "source": [
    "**Iris Investigate**"
   ]
  },
  {
   "cell_type": "code",
   "execution_count": 5,
   "metadata": {
    "pycharm": {
     "name": "#%%\n"
    }
   },
   "outputs": [
    {
     "name": "stdout",
     "output_type": "stream",
     "text": [
      "[+] Domain risk score for inhousecare.org: 100\n"
     ]
    }
   ],
   "source": [
    "from pyoti.domains import IrisInvestigate\n",
    "from pyoti.utils import split_url_domain\n",
    "\n",
    "iris = IrisInvestigate(api_key=domaintools)\n",
    "phish_domain = split_url_domain(phish_url)\n",
    "iris.domain = phish_domain\n",
    "domain = iris.check_domain()\n",
    "\n",
    "print(f\"[+] Domain risk score for {phish_domain}: {domain[0]['domain_risk']['risk_score']}\")"
   ]
  },
  {
   "cell_type": "markdown",
   "metadata": {},
   "source": [
    "**Google Safe Browsing**"
   ]
  },
  {
   "cell_type": "code",
   "execution_count": 6,
   "metadata": {
    "pycharm": {
     "name": "#%%\n"
    }
   },
   "outputs": [
    {
     "name": "stdout",
     "output_type": "stream",
     "text": [
      "[+] Threat Type: SOCIAL_ENGINEERING\n",
      "[+] Platform Type: ANY_PLATFORM\n"
     ]
    }
   ],
   "source": [
    "from pyoti.urls import GoogleSafeBrowsing\n",
    "\n",
    "gsb = GoogleSafeBrowsing(api_key=googlesafebrowsing)\n",
    "gsb.url = phish_url\n",
    "url = gsb.check_url()\n",
    "\n",
    "if url['matches']:\n",
    "    print(f\"[+] Threat Type: {url['matches'][0]['threatType']}\")\n",
    "    print(f\"[+] Platform Type: {url['matches'][0]['platformType']}\")\n",
    "else:\n",
    "    print(f\"[*] No results for {defang(phish_url)}!\")"
   ]
  },
  {
   "cell_type": "markdown",
   "metadata": {},
   "source": [
    "**Hybrid Analysis**"
   ]
  },
  {
   "cell_type": "code",
   "execution_count": 21,
   "metadata": {
    "pycharm": {
     "name": "#%%\n"
    }
   },
   "outputs": [
    {
     "name": "stdout",
     "output_type": "stream",
     "text": [
      "[*] No results for hXXps://inhousecare[.]org/GNyTpi4kVJrip.php!\n"
     ]
    }
   ],
   "source": [
    "from pyoti.multis import HybridAnalysis\n",
    "\n",
    "ha = HybridAnalysis(api_key=hybridanalysis)\n",
    "ha.url = phish_url\n",
    "url = ha.check_url()\n",
    "\n",
    "if url:\n",
    "    print(f\"[+] Hybrid Analysis verdict: {url[0]['verdict']}\")\n",
    "    print(f\"[+] Date of analysis: {url[0]['analysis_start_time']}\")\n",
    "    print(f\"[*] Link to analysis: https://www.hybrid-analysis.com/sample/{url[0]['sha256']}\")\n",
    "else:\n",
    "    print(f\"[*] No results for {defang(phish_url)}!\")"
   ]
  },
  {
   "cell_type": "markdown",
   "metadata": {},
   "source": [
    "**Phishtank**"
   ]
  },
  {
   "cell_type": "code",
   "execution_count": 22,
   "metadata": {
    "pycharm": {
     "name": "#%%\n"
    }
   },
   "outputs": [
    {
     "name": "stdout",
     "output_type": "stream",
     "text": [
      "[*] No results for hXXps://inhousecare[.]org/GNyTpi4kVJrip.php!\n"
     ]
    }
   ],
   "source": [
    "from pyoti.urls import Phishtank\n",
    "\n",
    "pt = Phishtank(api_key=phishtank)\n",
    "pt.url = phish_url\n",
    "url = pt.check_url()\n",
    "\n",
    "if url['in_database'] == 'true':\n",
    "    print(f\"[+] Valid: {url['valid']}\")\n",
    "    print(f\"[+] Verified: {url['verified']}\")\n",
    "    print(f\"[+] Date Verified: {url['verified_at']}\")\n",
    "    print(f\"[*] Link to analysis: {url['phish_detail_page']}\")\n",
    "else:\n",
    "    print(f\"[*] No results for {defang(phish_url)}!\")"
   ]
  },
  {
   "cell_type": "markdown",
   "metadata": {},
   "source": [
    "**URLhaus**"
   ]
  },
  {
   "cell_type": "code",
   "execution_count": 7,
   "metadata": {
    "pycharm": {
     "name": "#%%\n"
    }
   },
   "outputs": [
    {
     "name": "stdout",
     "output_type": "stream",
     "text": [
      "[+] URL threat: malware_download\n",
      "[+] URL status: offline\n",
      "[+] Date added: 2021-05-10 16:57:13 UTC\n",
      "[+] Tags: ['Dridex']\n",
      "[*] Payload delivery:\n",
      "    firstseen file_type                                                   response_sha256 signature\n",
      "0  2021-05-10       dll  17914734ef306382cb59e1e42495e4e34cfb54d35c7b1e34dffc6984372e44a3    Dridex\n",
      "1  2021-05-10       dll  6fdf42c571aac687ef1fe61821fbff5f15bbe1b208dee9eba2e34b5b99650629    Dridex\n",
      "2  2021-05-10       dll  430b978d3e01b398fa7280f13000eb745383b2721eb3673ada5d0befab26283c    Dridex\n",
      "[*] Link to analysis: https://urlhaus.abuse.ch/url/1217240/\n"
     ]
    }
   ],
   "source": [
    "import pandas\n",
    "\n",
    "from pyoti.multis import URLhaus\n",
    "\n",
    "urlhaus = URLhaus()\n",
    "urlhaus.url = phish_url\n",
    "url = urlhaus.check_url()\n",
    "\n",
    "if url['query_status'] == 'ok':\n",
    "    print(f\"[+] URL threat: {url['threat']}\")\n",
    "    print(f\"[+] URL status: {url['url_status']}\")\n",
    "    print(f\"[+] Date added: {url['date_added']}\")\n",
    "    print(f\"[+] Tags: {[i for i in url['tags']]}\")\n",
    "    print(\"[*] Payload delivery:\")\n",
    "    data = url['payloads']\n",
    "    df = pandas.DataFrame.from_dict(data)\n",
    "    df_payloads = df[['firstseen', 'file_type', 'response_sha256', 'signature']]\n",
    "    print(df_payloads.to_string())\n",
    "    print(f\"[*] Link to analysis: {url['urlhaus_reference']}\")\n",
    "else:\n",
    "   print(f\"[*] No results for {defang(phish_url)}!\")"
   ]
  },
  {
   "cell_type": "markdown",
   "metadata": {},
   "source": [
    "**URLscan**\n",
    "\n",
    "Search URLscan to see if URL has been submitted already"
   ]
  },
  {
   "cell_type": "code",
   "execution_count": 8,
   "metadata": {
    "pycharm": {
     "name": "#%%\n"
    }
   },
   "outputs": [
    {
     "name": "stdout",
     "output_type": "stream",
     "text": [
      "Result #1:\n",
      "\tIndexed at: 2021-06-06T16:01:46.260Z\n",
      "\tTask UUID: bba8eac4-209a-40e2-b270-b3d8cc2d3e64\n",
      "Result #2:\n",
      "\tIndexed at: 2021-06-06T16:01:17.490Z\n",
      "\tTask UUID: 0170f935-952d-427f-887b-28ffd9b3c483\n",
      "Result #3:\n",
      "\tIndexed at: 2021-06-04T01:43:52.420Z\n",
      "\tTask UUID: aa53ca36-77cd-4770-8c0e-8b478b112607\n"
     ]
    }
   ],
   "source": [
    "from pyoti.multis import URLscan\n",
    "\n",
    "urls = URLscan(api_key=urlscan)\n",
    "urls.url = phish_url\n",
    "tasks = urls.search_url()\n",
    "\n",
    "count = 1\n",
    "for i in tasks['results']:\n",
    "    print(f\"Result #{count}:\")\n",
    "    print(f\"\\tIndexed at: {i['indexedAt']}\")\n",
    "    print(f\"\\tTask UUID: {i['task']['uuid']}\")\n",
    "    count += 1"
   ]
  },
  {
   "cell_type": "markdown",
   "metadata": {},
   "source": [
    "Copy the Task UUID and set the task_uuid variable to check URLscan for results"
   ]
  },
  {
   "cell_type": "code",
   "execution_count": 9,
   "metadata": {
    "pycharm": {
     "name": "#%%\n"
    }
   },
   "outputs": [
    {
     "name": "stdout",
     "output_type": "stream",
     "text": [
      "[+] URLscan Verdict score: 0\n",
      "[+] Malicious: False\n",
      "[+] ASN: AS26496\n",
      "[+] ASN Name: AS-26496-GO-DADDY-COM-LLC, US\n",
      "[+] Country: US\n",
      "[+] Server: Apache/2.4.48 (cPanel) OpenSSL/1.1.1k mod_bwlimited/1.4\n",
      "[+] IP: 198.12.154.178\n",
      "[*] Link to analysis: https://urlscan.io/result/bba8eac4-209a-40e2-b270-b3d8cc2d3e64/\n"
     ]
    }
   ],
   "source": [
    "task_uuid = ''\n",
    "\n",
    "task_url = urls.check_url(uuid=task_uuid)\n",
    "print(f\"[+] URLscan Verdict score: {task_url['verdicts']['urlscan']['score']}\")\n",
    "if task_url['verdicts']['urlscan']['categories']:\n",
    "    print(f\"[+] Categories: {task_url['verdicts']['urlscan']['categories']}\")\n",
    "if task_url['verdicts']['urlscan']['brands']:\n",
    "    print(f\"[+] Brands: {task_url['verdicts']['urlscan']['brands']}\")\n",
    "if task_url['verdicts']['urlscan']['tags']:\n",
    "    print(f\"[+] Tags: {task_url['verdicts']['urlscan']['tags']}\")\n",
    "print(f\"[+] Malicious: {task_url['verdicts']['urlscan']['malicious']}\")\n",
    "print(f\"[+] ASN: {task_url['page']['asn']}\")\n",
    "print(f\"[+] ASN Name: {task_url['page']['asnname']}\")\n",
    "print(f\"[+] Country: {task_url['page']['country']}\")\n",
    "print(f\"[+] Server: {task_url['page']['server']}\")\n",
    "print(f\"[+] IP: {task_url['page']['ip']}\")\n",
    "print(f\"[*] Link to analysis: {task_url['task']['reportURL']}\")"
   ]
  },
  {
   "cell_type": "markdown",
   "metadata": {
    "pycharm": {
     "name": "#%% md\n"
    }
   },
   "source": [
    "**VirusTotal**"
   ]
  },
  {
   "cell_type": "code",
   "execution_count": 10,
   "metadata": {
    "pycharm": {
     "name": "#%%\n"
    }
   },
   "outputs": [
    {
     "name": "stdout",
     "output_type": "stream",
     "text": [
      "[+] Scan date: 2021-05-11 04:27:46\n",
      "[+] Positives: 11\n",
      "[+] Total: 87\n",
      "[*] Link to analysis: https://www.virustotal.com/gui/url/849c8a6c5a75888e54e4ec06cb7974ad28226ffbde2bbd0e729772b4a682da5d/detection/u-849c8a6c5a75888e54e4ec06cb7974ad28226ffbde2bbd0e729772b4a682da5d-1620707266\n"
     ]
    }
   ],
   "source": [
    "from pyoti.multis import VirusTotal\n",
    "\n",
    "vt = VirusTotal(api_key=virustotal)\n",
    "vt.url = phish_url\n",
    "url = vt.check_url()\n",
    "\n",
    "if url['response_code'] == 1:\n",
    "    print(f\"[+] Scan date: {url['scan_date']}\")\n",
    "    print(f\"[+] Positives: {url['positives']}\")\n",
    "    print(f\"[+] Total: {url['total']}\")\n",
    "    print(f\"[*] Link to analysis: {url['permalink']}\")\n",
    "else:\n",
    "    print(f\"[*] Verbose Message: {url['verbose_msg']}\")"
   ]
  }
 ],
 "metadata": {
  "kernelspec": {
   "display_name": "Python 3",
   "language": "python",
   "name": "python3"
  },
  "language_info": {
   "codemirror_mode": {
    "name": "ipython",
    "version": 3
   },
   "file_extension": ".py",
   "mimetype": "text/x-python",
   "name": "python",
   "nbconvert_exporter": "python",
   "pygments_lexer": "ipython3",
   "version": "3.9.4"
  }
 },
 "nbformat": 4,
 "nbformat_minor": 1
}