{
 "cells": [
  {
   "cell_type": "markdown",
   "source": [
    "# PyOTI Phishing Triage\n",
    "***\n",
    "## Installation\n",
    "\n",
    "```bash\n",
    "python3 -m pip install virtualenv\n",
    "git clone https://github.com/RH-ISAC/PyOTI\n",
    "cd PyOTI\n",
    "python3 -m venv venv\n",
    "source venv/bin/activate\n",
    "python3 -m pip install -r requirements.txt\n",
    "python3 -m pip install .\n",
    "```\n",
    ">If you experience issues installing pycares, please uninstall c-ares from ```/usr/local``` or run ```brew uninstall --ignore-dependencies c-ares```. Pycares depends on the bundled version. (https://github.com/ccxt/ccxt/issues/4798)\n",
    "\n",
    "## API Keys\n",
    "Set your API key variables below:"
   ],
   "metadata": {
    "collapsed": false
   }
  },
  {
   "cell_type": "code",
   "execution_count": null,
   "outputs": [],
   "source": [
    "domaintools = '{USER}:{SECRET}'\n",
    "googlesafebrowsing = ''\n",
    "hybridanalysis = ''\n",
    "phishtank = ''\n",
    "urlscan = ''\n",
    "virustotal = ''"
   ],
   "metadata": {
    "collapsed": false,
    "pycharm": {
     "name": "#%%\n"
    }
   }
  },
  {
   "cell_type": "markdown",
   "source": [
    "***\n",
    "## URL Analysis\n",
    "Set the suspicious URL variable below:\n",
    "\n",
    ">If the URL contains base64-encoded username/address please replace with ``` redacted@redacted.com ``` or ``` cmVkYWN0ZWRAcmVkYWN0ZWQuY29tCg== ```\n",
    "\n",
    "**Suspicious URL**"
   ],
   "metadata": {
    "collapsed": false
   }
  },
  {
   "cell_type": "code",
   "execution_count": null,
   "outputs": [],
   "source": [
    "# we import this to safely display the suspicious URL to avoid accidental clicks\n",
    "from defang import defang\n",
    "\n",
    "phish_url = ''"
   ],
   "metadata": {
    "collapsed": false,
    "pycharm": {
     "name": "#%%\n"
    }
   }
  },
  {
   "cell_type": "markdown",
   "source": [
    "**Iris Investigate**"
   ],
   "metadata": {
    "collapsed": false
   }
  },
  {
   "cell_type": "code",
   "execution_count": null,
   "outputs": [],
   "source": [
    "from pyoti.domains import IrisInvestigate\n",
    "from pyoti.utils import split_url_domain\n",
    "\n",
    "iris = IrisInvestigate(api_key=domaintools)\n",
    "phish_domain = split_url_domain(phish_url)\n",
    "iris.domain = phish_domain\n",
    "domain = iris.check_domain()\n",
    "\n",
    "print(f\"[+] Domain risk score for {phish_domain}: {domain[0]['domain_risk']['risk_score']}\")"
   ],
   "metadata": {
    "collapsed": false,
    "pycharm": {
     "name": "#%%\n"
    }
   }
  },
  {
   "cell_type": "markdown",
   "source": [
    "\n",
    "**Google Safe Browsing**"
   ],
   "metadata": {
    "collapsed": false
   }
  },
  {
   "cell_type": "code",
   "execution_count": null,
   "outputs": [],
   "source": [
    "from pyoti.urls import GoogleSafeBrowsing\n",
    "\n",
    "gsb = GoogleSafeBrowsing(api_key=googlesafebrowsing)\n",
    "gsb.url = phish_url\n",
    "url = gsb.check_url()\n",
    "\n",
    "if url['matches']:\n",
    "    print(f\"[+] Threat Type: {url['matches'][0]['threatType']}\")\n",
    "    print(f\"[+] Platform Type: {url['matches'][0]['platformType']}\")\n",
    "else:\n",
    "    print(f\"[*] No results for {defang(phish_url)}!\")"
   ],
   "metadata": {
    "collapsed": false,
    "pycharm": {
     "name": "#%%\n"
    }
   }
  },
  {
   "cell_type": "markdown",
   "source": [
    "**Hybrid Analysis**"
   ],
   "metadata": {
    "collapsed": false
   }
  },
  {
   "cell_type": "code",
   "execution_count": null,
   "outputs": [],
   "source": [
    "from pyoti.multis import HybridAnalysis\n",
    "\n",
    "ha = HybridAnalysis(api_key=hybridanalysis)\n",
    "ha.url = phish_url\n",
    "url = ha.check_url()\n",
    "\n",
    "if url:\n",
    "    print(f\"[+] Hybrid Analysis verdict: {url[0]['verdict']}\")\n",
    "    print(f\"[+] Date of analysis: {url[0]['analysis_start_time']}\")\n",
    "    print(f\"[*] Link to analysis: https://www.hybrid-analysis.com/sample/{url[0]['sha256']}\")\n",
    "else:\n",
    "    print(f\"[*] No results for {defang(phish_url)}!\")"
   ],
   "metadata": {
    "collapsed": false,
    "pycharm": {
     "name": "#%%\n"
    }
   }
  },
  {
   "cell_type": "markdown",
   "source": [
    "**Phishtank**"
   ],
   "metadata": {
    "collapsed": false
   }
  },
  {
   "cell_type": "code",
   "execution_count": null,
   "outputs": [],
   "source": [
    "from pyoti.urls import Phishtank\n",
    "\n",
    "pt = Phishtank(api_key=phishtank)\n",
    "pt.url = phish_url\n",
    "url = pt.check_url()\n",
    "\n",
    "if url['in_database'] == 'true':\n",
    "    print(f\"[+] Valid: {url['valid']}\")\n",
    "    print(f\"[+] Verified: {url['verified']}\")\n",
    "    print(f\"[+] Date Verified: {url['verified_at']}\")\n",
    "    print(f\"[*] Link to analysis: {url['phish_detail_page']}\")\n",
    "else:\n",
    "    print(f\"[*] No results for {defang(phish_url)}!\")"
   ],
   "metadata": {
    "collapsed": false,
    "pycharm": {
     "name": "#%%\n"
    }
   }
  },
  {
   "cell_type": "markdown",
   "source": [
    "**URLhaus**"
   ],
   "metadata": {
    "collapsed": false
   }
  },
  {
   "cell_type": "code",
   "execution_count": null,
   "outputs": [],
   "source": [
    "import pandas\n",
    "\n",
    "from pyoti.multis import URLhaus\n",
    "\n",
    "urlhaus = URLhaus()\n",
    "urlhaus.url = phish_url\n",
    "url = urlhaus.check_url()\n",
    "\n",
    "if url['query_status'] == 'ok':\n",
    "    print(f\"[+] URL threat: {url['threat']}\")\n",
    "    print(f\"[+] URL status: {url['url_status']}\")\n",
    "    print(f\"[+] Date added: {url['date_added']}\")\n",
    "    print(f\"[+] Tags: {[i for i in url['tags']]}\")\n",
    "    print(\"[*] Payload delivery:\")\n",
    "    data = url['payloads']\n",
    "    df = pandas.DataFrame.from_dict(data)\n",
    "    df_payloads = df[['firstseen', 'file_type', 'response_sha256', 'signature']]\n",
    "    print(df_payloads.to_string())\n",
    "    print(f\"[*] Link to analysis: {url['urlhaus_reference']}\")\n",
    "else:\n",
    "   print(f\"[*] No results for {defang(phish_url)}!\")"
   ],
   "metadata": {
    "collapsed": false,
    "pycharm": {
     "name": "#%%\n"
    }
   }
  },
  {
   "cell_type": "markdown",
   "source": [
    "**URLscan**\n",
    "\n",
    "Search URLscan to see if URL has been submitted already"
   ],
   "metadata": {
    "collapsed": false
   }
  },
  {
   "cell_type": "code",
   "execution_count": null,
   "outputs": [],
   "source": [
    "from pyoti.multis import URLscan\n",
    "\n",
    "urls = URLscan(api_key=urlscan)\n",
    "urls.url = phish_url\n",
    "tasks = urls.search_url()\n",
    "\n",
    "count = 1\n",
    "for i in tasks['results']:\n",
    "    print(f\"Result #{count}:\")\n",
    "    print(f\"\\tIndexed at: {i['indexedAt']}\")\n",
    "    print(f\"\\tTask UUID: {i['task']['uuid']}\")\n",
    "    count += 1"
   ],
   "metadata": {
    "collapsed": false,
    "pycharm": {
     "name": "#%%\n"
    }
   }
  },
  {
   "cell_type": "markdown",
   "source": [
    "Copy the Task UUID and set the task_uuid variable to check URLscan for results"
   ],
   "metadata": {
    "collapsed": false
   }
  },
  {
   "cell_type": "code",
   "execution_count": null,
   "outputs": [],
   "source": [
    "task_uuid = 'bba8eac4-209a-40e2-b270-b3d8cc2d3e64'\n",
    "\n",
    "task_url = urls.check_url(uuid=task_uuid)\n",
    "print(f\"[+] URLscan Verdict score: {task_url['verdicts']['urlscan']['score']}\")\n",
    "if task_url['verdicts']['urlscan']['categories']:\n",
    "    print(f\"[+] Categories: {task_url['verdicts']['urlscan']['categories']}\")\n",
    "if task_url['verdicts']['urlscan']['brands']:\n",
    "    print(f\"[+] Brands: {task_url['verdicts']['urlscan']['brands']}\")\n",
    "if task_url['verdicts']['urlscan']['tags']:\n",
    "    print(f\"[+] Tags: {task_url['verdicts']['urlscan']['tags']}\")\n",
    "print(f\"[+] Malicious: {task_url['verdicts']['urlscan']['malicious']}\")\n",
    "print(f\"[+] ASN: {task_url['page']['asn']}\")\n",
    "print(f\"[+] ASN Name: {task_url['page']['asnname']}\")\n",
    "print(f\"[+] Country: {task_url['page']['country']}\")\n",
    "print(f\"[+] Server: {task_url['page']['server']}\")\n",
    "print(f\"[+] IP: {task_url['page']['ip']}\")\n",
    "print(f\"[*] Link to analysis: {task_url['task']['reportURL']}\")"
   ],
   "metadata": {
    "collapsed": false,
    "pycharm": {
     "name": "#%%\n"
    }
   }
  },
  {
   "cell_type": "markdown",
   "source": [
    "**VirusTotal**"
   ],
   "metadata": {
    "collapsed": false
   }
  },
  {
   "cell_type": "code",
   "execution_count": null,
   "outputs": [],
   "source": [
    "from pyoti.multis import VirusTotal\n",
    "\n",
    "vt = VirusTotal(api_key=virustotal)\n",
    "vt.url = phish_url\n",
    "url = vt.check_url()\n",
    "\n",
    "if url['response_code'] == 1:\n",
    "    print(f\"[+] Scan date: {url['scan_date']}\")\n",
    "    print(f\"[+] Positives: {url['positives']}\")\n",
    "    print(f\"[+] Total: {url['total']}\")\n",
    "    print(f\"[*] Link to analysis: {url['permalink']}\")\n",
    "else:\n",
    "    print(f\"[*] Verbose Message: {url['verbose_msg']}\")"
   ],
   "metadata": {
    "collapsed": false,
    "pycharm": {
     "name": "#%%\n"
    }
   }
  }
 ],
 "metadata": {
  "kernelspec": {
   "display_name": "Python 3",
   "language": "python",
   "name": "python3"
  },
  "language_info": {
   "codemirror_mode": {
    "name": "ipython",
    "version": 2
   },
   "file_extension": ".py",
   "mimetype": "text/x-python",
   "name": "python",
   "nbconvert_exporter": "python",
   "pygments_lexer": "ipython2",
   "version": "2.7.6"
  }
 },
 "nbformat": 4,
 "nbformat_minor": 0
}